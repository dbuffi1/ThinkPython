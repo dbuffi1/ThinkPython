{
 "cells": [
  {
   "cell_type": "code",
   "execution_count": 14,
   "id": "14c0a557-cee9-4ed5-8333-4ae927aa84de",
   "metadata": {},
   "outputs": [
    {
     "name": "stdout",
     "output_type": "stream",
     "text": [
      "523.3333333333334\n"
     ]
    }
   ],
   "source": [
    "pi = 3.14\n",
    "r = 5\n",
    "vol = (4/3)*pi*(r**3)\n",
    "print(vol)"
   ]
  },
  {
   "cell_type": "code",
   "execution_count": 21,
   "id": "ddc50076",
   "metadata": {},
   "outputs": [
    {
     "name": "stdout",
     "output_type": "stream",
     "text": [
      "945.4499999999999\n"
     ]
    }
   ],
   "source": [
    "cover = 24.95 \n",
    "discount = .40\n",
    "shipping = 3.00\n",
    "copies = 60\n",
    "total_cover = copies*(cover*(1-discount))\n",
    "total_base = ((copies-1)*.75)+shipping\n",
    "total = total_cover+total_base\n",
    "print(total)"
   ]
  },
  {
   "cell_type": "code",
   "execution_count": null,
   "id": "f11a9de9",
   "metadata": {},
   "outputs": [],
   "source": []
  }
 ],
 "metadata": {
  "kernelspec": {
   "display_name": "Python 3 (ipykernel)",
   "language": "python",
   "name": "python3"
  },
  "language_info": {
   "codemirror_mode": {
    "name": "ipython",
    "version": 3
   },
   "file_extension": ".py",
   "mimetype": "text/x-python",
   "name": "python",
   "nbconvert_exporter": "python",
   "pygments_lexer": "ipython3",
   "version": "3.9.7"
  }
 },
 "nbformat": 4,
 "nbformat_minor": 5
}
