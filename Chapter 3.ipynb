{
 "cells": [
  {
   "cell_type": "code",
   "execution_count": 1,
   "id": "e9994919",
   "metadata": {},
   "outputs": [
    {
     "name": "stdout",
     "output_type": "stream",
     "text": [
      "                                                                  book\n"
     ]
    }
   ],
   "source": [
    "##Excercise 3-1\n",
    "def right_justify(s):\n",
    "    space = 70-len(s)\n",
    "    justify = (space*' ')+s\n",
    "    print(justify)\n",
    "\n",
    "right_justify('book')"
   ]
  },
  {
   "cell_type": "code",
   "execution_count": 2,
   "id": "566c13d4",
   "metadata": {},
   "outputs": [
    {
     "name": "stdout",
     "output_type": "stream",
     "text": [
      "spam\n",
      "spam\n",
      "spam\n",
      "spam\n",
      "spam\n",
      "spam\n",
      "spam\n",
      "spam\n"
     ]
    }
   ],
   "source": [
    "##Excercise 3-2\n",
    "def do_twice(f,n):\n",
    "    f(n)\n",
    "    f(n)\n",
    "    \n",
    "def print_twice(bruce):\n",
    "    print(bruce)\n",
    "    print(bruce)\n",
    "    \n",
    "\n",
    "\n",
    "def do_four(f,n):\n",
    "    do_twice(f,n)\n",
    "    do_twice(f,n)\n",
    "\n",
    "do_four(print_twice,'spam')"
   ]
  },
  {
   "cell_type": "code",
   "execution_count": 3,
   "id": "34f02645",
   "metadata": {},
   "outputs": [
    {
     "name": "stdout",
     "output_type": "stream",
     "text": [
      "+----+----+\n",
      "|    |    |\n",
      "|    |    |\n",
      "|    |    |\n",
      "|    |    |\n",
      "+----+----+\n",
      "|    |    |\n",
      "|    |    |\n",
      "|    |    |\n",
      "|    |    |\n",
      "+----+----+\n"
     ]
    }
   ],
   "source": [
    "top = \"+----+----+\"\n",
    "side = \"|\"+(' '*4)+\"|\"+(' '*4)+\"|\"\n",
    "\n",
    "def print_four(n):\n",
    "    print(n)\n",
    "    print(n)\n",
    "    print(n)\n",
    "    print(n)\n",
    "\n",
    "def print_grid(n,x):\n",
    "    print(x)\n",
    "    print_four(n)\n",
    "    print(x)\n",
    "    print_four(n)\n",
    "    print(x)\n",
    "    \n",
    "print_grid(side,top)"
   ]
  }
 ],
 "metadata": {
  "kernelspec": {
   "display_name": "Python 3 (ipykernel)",
   "language": "python",
   "name": "python3"
  },
  "language_info": {
   "codemirror_mode": {
    "name": "ipython",
    "version": 3
   },
   "file_extension": ".py",
   "mimetype": "text/x-python",
   "name": "python",
   "nbconvert_exporter": "python",
   "pygments_lexer": "ipython3",
   "version": "3.9.7"
  }
 },
 "nbformat": 4,
 "nbformat_minor": 5
}
